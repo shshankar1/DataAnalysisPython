{
 "cells": [
  {
   "cell_type": "markdown",
   "metadata": {},
   "source": [
    "<p style=\"font-family: Arial; font-size:1.75em;color:#2462C0; font-style:bold\"><br>\n",
    "Step 1. Get the data from excel sheet\n",
    "</p>"
   ]
  },
  {
   "cell_type": "code",
   "execution_count": 1,
   "metadata": {},
   "outputs": [],
   "source": [
    "import pandas as pd\n",
    "import datetime\n",
    "\n",
    "stock_data = pd.ExcelFile(\"Sreeleather_Historical_Price.xlsx\")\n",
    "data = stock_data.parse(\"Sheet1\")"
   ]
  },
  {
   "cell_type": "code",
   "execution_count": 2,
   "metadata": {},
   "outputs": [
    {
     "name": "stdout",
     "output_type": "stream",
     "text": [
      "  Symbol Series       Date  Prev Close  Open Price  High Price  Low Price  \\\n",
      "0  SREEL     EQ 2014-01-01       294.7       297.0       301.0      295.0   \n",
      "1  SREEL     EQ 2014-01-02       298.0       314.0       314.0      295.3   \n",
      "2  SREEL     EQ 2014-01-03       299.9       300.0       300.0      300.0   \n",
      "3  SREEL     EQ 2014-01-06       300.0       290.0       300.0      290.0   \n",
      "4  SREEL     EQ 2014-01-07       300.0       290.5       312.5      290.5   \n",
      "\n",
      "   Last Price  Close Price  Average Price  Volume    Turnover  No. of Trades  \\\n",
      "0       301.0        298.0         296.49   19014  5637489.95             94   \n",
      "1       299.9        299.9         298.94   20015  5983383.30             64   \n",
      "2       300.0        300.0         300.00       5     1500.00              1   \n",
      "3       300.0        300.0         294.44      45    13250.00              3   \n",
      "4       291.3        291.3         296.59    7513  2228284.30             13   \n",
      "\n",
      "   Deliverable Qty  % Dly Qt to Traded Qty  \n",
      "0            13020                   68.48  \n",
      "1             8005                   40.00  \n",
      "2                5                  100.00  \n",
      "3               45                  100.00  \n",
      "4             6512                   86.68  \n"
     ]
    }
   ],
   "source": [
    "print(data.head())"
   ]
  },
  {
   "cell_type": "code",
   "execution_count": 3,
   "metadata": {},
   "outputs": [
    {
     "name": "stdout",
     "output_type": "stream",
     "text": [
      "\n",
      "\n",
      "Open   --- mean : 204.91722689075598   \t Std:  56.489747363798934   \t Max:  342.0   \t Min:  105.0\n",
      "High   --- mean : 209.18335084033623   \t Std:  56.76477372769047   \t Max:  342.0   \t Min:  110.0\n",
      "Low    --- mean : 199.81381302521   \t Std:  55.1011195235701   \t Max:  300.5   \t Min:  97.1\n",
      "Close  --- mean : 203.76465336134441   \t Std:  55.75549750644117   \t Max:  310.95   \t Min:  108.8\n",
      "Volume --- mean : 11875.985294117647   \t Std:  32185.32692783257   \t Max:  532587   \t Min:  1\n"
     ]
    }
   ],
   "source": [
    "import numpy as np\n",
    "print(\"\\n\")\n",
    "print(\"Open   --- mean :\", np.mean(data['Open Price']),  \"  \\t Std: \", np.std(data['Open Price']),  \"  \\t Max: \", np.max(data['Open Price']),  \"  \\t Min: \", np.min(data['Open Price']))\n",
    "print(\"High   --- mean :\", np.mean(data['High Price']),  \"  \\t Std: \", np.std(data['High Price']),  \"  \\t Max: \", np.max(data['High Price']),  \"  \\t Min: \", np.min(data['High Price']))\n",
    "print(\"Low    --- mean :\", np.mean(data['Low Price']),   \"  \\t Std: \", np.std(data['Low Price']),   \"  \\t Max: \", np.max(data['Low Price']),   \"  \\t Min: \", np.min(data['Low Price']))\n",
    "print(\"Close  --- mean :\", np.mean(data['Close Price']), \"  \\t Std: \", np.std(data['Close Price']), \"  \\t Max: \", np.max(data['Close Price']), \"  \\t Min: \", np.min(data['Close Price']))\n",
    "print(\"Volume --- mean :\", np.mean(data['Volume']),\"  \\t Std: \", np.std(data['Volume']),\"  \\t Max: \", np.max(data['Volume']),\"  \\t Min: \", np.min(data['Volume']))"
   ]
  },
  {
   "cell_type": "markdown",
   "metadata": {},
   "source": [
    "<p style=\"font-family: Arial; font-size:1.75em;color:#2462C0; font-style:bold\"><br>\n",
    "Step 2 : Remove Unncessary data, i.e., Date and High value\n",
    "</p>"
   ]
  },
  {
   "cell_type": "code",
   "execution_count": 4,
   "metadata": {},
   "outputs": [],
   "source": [
    "import preprocess_data as ppd\n",
    "stocks = ppd.remove_data(data)"
   ]
  },
  {
   "cell_type": "code",
   "execution_count": 5,
   "metadata": {},
   "outputs": [
    {
     "name": "stdout",
     "output_type": "stream",
     "text": [
      "   Item  Open Price  Close Price  High Price  Low Price  Volume\n",
      "0     0       166.3       166.70      170.05     165.50    5550\n",
      "1     1       169.0       167.95      172.00     162.60   21965\n",
      "2     2       170.0       169.40      173.00     166.50    6245\n",
      "3     3       173.0       167.55      173.20     163.55    7657\n",
      "4     4       178.1       172.30      183.45     170.10    3733\n",
      "---\n",
      "     Item  Open Price  Close Price  High Price  Low Price  Volume\n",
      "947   947       290.5        291.3       312.5      290.5    7513\n",
      "948   948       290.0        300.0       300.0      290.0      45\n",
      "949   949       300.0        300.0       300.0      300.0       5\n",
      "950   950       314.0        299.9       314.0      295.3   20015\n",
      "951   951       297.0        298.0       301.0      295.0   19014\n"
     ]
    }
   ],
   "source": [
    "#Print the dataframe head and tail\n",
    "print(stocks.head())\n",
    "print(\"---\")\n",
    "print(stocks.tail())"
   ]
  },
  {
   "cell_type": "markdown",
   "metadata": {},
   "source": [
    "<p style=\"font-family: Arial; font-size:1.75em;color:#2462C0; font-style:bold\"><br>\n",
    "Step 3 : Visualize the raw data\n",
    "</p>"
   ]
  },
  {
   "cell_type": "code",
   "execution_count": 9,
   "metadata": {},
   "outputs": [
    {
     "data": {
      "image/png": "[encoded data removed]",
      "text/plain": [
       "<Figure size 432x288 with 1 Axes>"
      ]
     },
     "metadata": {},
     "output_type": "display_data"
    }
   ],
   "source": [
    "import visualize\n",
    "\n",
    "visualize.plot_basic(stocks)"
   ]
  },
  {
   "cell_type": "markdown",
   "metadata": {},
   "source": [
    "<p style=\"font-family: Arial; font-size:1.75em;color:#2462C0; font-style:bold\"><br>\n",
    "Step 4 : Normalise the data using minmaxscaler function\n",
    "</p>"
   ]
  },
  {
   "cell_type": "code",
   "execution_count": 7,
   "metadata": {},
   "outputs": [
    {
     "name": "stdout",
     "output_type": "stream",
     "text": [
      "   Item  Open Price  Close Price  High Price  Low Price    Volume\n",
      "0     0    0.258650     0.286421    0.258836   0.336283  0.010419\n",
      "1     1    0.270042     0.292605    0.267241   0.322026  0.041240\n",
      "2     2    0.274262     0.299777    0.271552   0.341200  0.011724\n",
      "3     3    0.286920     0.290626    0.272414   0.326696  0.014375\n",
      "4     4    0.308439     0.314123    0.316595   0.358899  0.007007\n",
      "\n",
      "\n",
      "Open   --- mean : 204.91722689075598   \t Std:  56.489747363798934   \t Max:  342.0   \t Min:  105.0\n",
      "High   --- mean : 209.18335084033623   \t Std:  56.76477372769047   \t Max:  342.0   \t Min:  110.0\n",
      "Low    --- mean : 199.81381302521   \t Std:  55.1011195235701   \t Max:  300.5   \t Min:  97.1\n",
      "Close  --- mean : 203.76465336134441   \t Std:  55.75549750644117   \t Max:  310.95   \t Min:  108.8\n",
      "Volume --- mean : 11875.985294117647   \t Std:  32185.32692783257   \t Max:  532587   \t Min:  1\n"
     ]
    }
   ],
   "source": [
    "stocksNormalized = ppd.get_normalised_data(stocks)\n",
    "print(stocksNormalized.head())\n",
    "\n",
    "print(\"\\n\")\n",
    "print(\"Open   --- mean :\", np.mean(data['Open Price']),  \"  \\t Std: \", np.std(data['Open Price']),  \"  \\t Max: \", np.max(data['Open Price']),  \"  \\t Min: \", np.min(data['Open Price']))\n",
    "print(\"High   --- mean :\", np.mean(data['High Price']),  \"  \\t Std: \", np.std(data['High Price']),  \"  \\t Max: \", np.max(data['High Price']),  \"  \\t Min: \", np.min(data['High Price']))\n",
    "print(\"Low    --- mean :\", np.mean(data['Low Price']),   \"  \\t Std: \", np.std(data['Low Price']),   \"  \\t Max: \", np.max(data['Low Price']),   \"  \\t Min: \", np.min(data['Low Price']))\n",
    "print(\"Close  --- mean :\", np.mean(data['Close Price']), \"  \\t Std: \", np.std(data['Close Price']), \"  \\t Max: \", np.max(data['Close Price']), \"  \\t Min: \", np.min(data['Close Price']))\n",
    "print(\"Volume --- mean :\", np.mean(data['Volume']),\"  \\t Std: \", np.std(data['Volume']),\"  \\t Max: \", np.max(data['Volume']),\"  \\t Min: \", np.min(data['Volume']))"
   ]
  },
  {
   "cell_type": "code",
   "execution_count": 8,
   "metadata": {},
   "outputs": [
    {
     "data": {
      "image/png": "[encoded data removed]",
      "text/plain": [
       "<Figure size 432x288 with 1 Axes>"
      ]
     },
     "metadata": {},
     "output_type": "display_data"
    }
   ],
   "source": [
    "visualize.plot_basic(stocksNormalized)"
   ]
  },
  {
   "cell_type": "markdown",
   "metadata": {},
   "source": [
    "<p style=\"font-family: Arial; font-size:1.75em;color:#2462C0; font-style:bold\"><br>\n",
    "Step 5 : Log the normalised data for future resuablilty\n",
    "</p>"
   ]
  },
  {
   "cell_type": "code",
   "execution_count": null,
   "metadata": {},
   "outputs": [],
   "source": [
    "stocksNormalized.to_csv('sreeleathers_preprocessed.csv',index= False)"
   ]
  },
  {
   "cell_type": "markdown",
   "metadata": {},
   "source": [
    "<p style=\"font-family: Arial; font-size:1.75em;color:#2462C0; font-style:bold\"><br>\n",
    "Step 6 : Just pick closing price and drop rest fields\n",
    "</p>"
   ]
  },
  {
   "cell_type": "code",
   "execution_count": 11,
   "metadata": {},
   "outputs": [
    {
     "name": "stdout",
     "output_type": "stream",
     "text": [
      "   Close Price\n",
      "0       166.70\n",
      "1       167.95\n",
      "2       169.40\n",
      "3       167.55\n",
      "4       172.30\n"
     ]
    }
   ],
   "source": [
    "closingPriceDF = stocks[['Close Price']]\n",
    "\n",
    "print(closingPriceDF.head())"
   ]
  },
  {
   "cell_type": "markdown",
   "metadata": {},
   "source": [
    "<p style=\"font-family: Arial; font-size:1.75em;color:#2462C0; font-style:bold\"><br>\n",
    "Step 7 : Forecasting Part\n",
    "</p>"
   ]
  },
  {
   "cell_type": "code",
   "execution_count": 58,
   "metadata": {},
   "outputs": [
    {
     "name": "stdout",
     "output_type": "stream",
     "text": [
      "confidence:  0.6828702898827004\n",
      "[289.62274579 283.90252905 286.76263742 283.90252905 283.90252905\n",
      " 281.45100759 283.49394214 283.90252905 283.90252905 283.90252905\n",
      " 289.5818871  284.71970287 283.90252905 286.35405051 281.45100759\n",
      " 283.33050738 286.76263742 283.08535523 285.53687669 285.12828978\n",
      " 284.51540942 285.53687669 285.57773538 287.17122433 279.57150781\n",
      " 278.42746446 285.53687669 285.53687669 285.45515931 283.90252905]\n"
     ]
    },
    {
     "name": "stderr",
     "output_type": "stream",
     "text": [
      "C:\\Users\\shashi\\Anaconda3\\lib\\site-packages\\ipykernel_launcher.py:5: SettingWithCopyWarning: \n",
      "A value is trying to be set on a copy of a slice from a DataFrame.\n",
      "Try using .loc[row_indexer,col_indexer] = value instead\n",
      "\n",
      "See the caveats in the documentation: http://pandas.pydata.org/pandas-docs/stable/indexing.html#indexing-view-versus-copy\n",
      "  \"\"\"\n"
     ]
    }
   ],
   "source": [
    "# predicting for 30 days\n",
    "forecast_out = int(30)\n",
    "\n",
    "#label column with data shifted 30 units up\n",
    "closingPriceDF['Prediction'] = closingPriceDF[['Close Price']].shift(-forecast_out)\n",
    "\n",
    "#print(closingPriceDF.head)\n",
    "\n",
    "import numpy as np\n",
    "\n",
    "X = np.array(closingPriceDF.drop(['Prediction'], 1))\n",
    "\n",
    "#print(X)\n",
    "\n",
    "from sklearn.linear_model import LinearRegression\n",
    "from sklearn import preprocessing, cross_validation, svm\n",
    "\n",
    "X = preprocessing.scale(X)\n",
    "\n",
    "#set X_forecast equal to last 30\n",
    "X_forecast = X[-forecast_out:]\n",
    "#remove last 30 from X\n",
    "X = X[:-forecast_out]\n",
    "\n",
    "z = np.array(closingPriceDF['Prediction'])\n",
    "z = z[:-forecast_out]\n",
    "\n",
    "X_train, X_test, z_train, z_test = cross_validation.train_test_split(X, z, test_size = 0.2)\n",
    "\n",
    "\n",
    "# Training\n",
    "clf = LinearRegression()\n",
    "clf.fit(X_train, z_train)\n",
    "# Testing\n",
    "confidence = clf.score(X_test, z_test)\n",
    "print(\"confidence: \", confidence)\n",
    "\n",
    "#print(X_forecast)\n",
    "forecast_prediction = clf.predict(X_forecast)\n",
    "print(forecast_prediction)"
   ]
  },
  {
   "cell_type": "code",
   "execution_count": null,
   "metadata": {},
   "outputs": [],
   "source": []
  },
  {
   "cell_type": "code",
   "execution_count": null,
   "metadata": {},
   "outputs": [],
   "source": []
  }
 ],
 "metadata": {
  "kernelspec": {
   "display_name": "Python 3",
   "language": "python",
   "name": "python3"
  },
  "language_info": {
   "codemirror_mode": {
    "name": "ipython",
    "version": 3
   },
   "file_extension": ".py",
   "mimetype": "text/x-python",
   "name": "python",
   "nbconvert_exporter": "python",
   "pygments_lexer": "ipython3",
   "version": "3.6.5"
  }
 },
 "nbformat": 4,
 "nbformat_minor": 2
}
